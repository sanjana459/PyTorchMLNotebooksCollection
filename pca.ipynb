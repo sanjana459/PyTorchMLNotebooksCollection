{
 "cells": [
  {
   "cell_type": "code",
   "execution_count": 1,
   "metadata": {},
   "outputs": [],
   "source": [
    "import torch\n",
    "import math\n",
    "import matplotlib.pyplot as plt"
   ]
  },
  {
   "cell_type": "markdown",
   "metadata": {},
   "source": [
    "For this example, we'll make a noisy line *y = mx + c*. Run with these first: they produce acceptable graphing results.  "
   ]
  },
  {
   "cell_type": "code",
   "execution_count": 2,
   "metadata": {},
   "outputs": [],
   "source": [
    "num_points = 5\n",
    "noisiness = 50\n",
    "\n",
    "m = 2.7\n",
    "c = .5"
   ]
  },
  {
   "cell_type": "markdown",
   "metadata": {},
   "source": [
    "Create the X data, it's 2 dimensional."
   ]
  },
  {
   "cell_type": "code",
   "execution_count": 3,
   "metadata": {},
   "outputs": [],
   "source": [
    "x1 = torch.rand( num_points, 1 )\n",
    "x2 = x1 * m + c + ( ( torch.rand( x1.size() ) - 0.5 ) * ( noisiness/100.0 ) )\n",
    "\n",
    "X = torch.cat( (x1,x2), 1 )"
   ]
  },
  {
   "cell_type": "markdown",
   "metadata": {},
   "source": [
    "Plot the data points, the red dots represent the raw 2 dimensional data. Notice how the information contained in the dots of focused close to a line. This is often the case in real data: two variables are highly correlated, pca can be thought of as "
   ]
  },
  {
   "cell_type": "code",
   "execution_count": 4,
   "metadata": {},
   "outputs": [
    {
     "data": {
      "image/png": "[encoded data removed]",
      "text/plain": [
       "<Figure size 432x288 with 1 Axes>"
      ]
     },
     "metadata": {},
     "output_type": "display_data"
    }
   ],
   "source": [
    "plt.scatter( X[:,0].tolist(), X[:,1].tolist(), color='red' ) \n",
    "plt.show()"
   ]
  },
  {
   "cell_type": "markdown",
   "metadata": {},
   "source": [
    "How can we turn 2-D data into 1-D (reduce the dimensionality). We could project the data onto the X axis. These steps should do the trick...\n",
    "\n",
    "- rotate the graph to make the best fit line horizontal (pink points)\n",
    "- set the Y co-ordinate of the rotated points equal zero (grey points)\n",
    "\n",
    "In this example we'll shortcut the best fit calc: we know m, so we can rotate by the line slope.\n",
    "\n",
    "Take a look at what we did in the graph below. We projected the red dots onto the x-axis. We lost some information, the y-axis value of the rotated data. "
   ]
  },
  {
   "cell_type": "code",
   "execution_count": 5,
   "metadata": {},
   "outputs": [
    {
     "data": {
      "image/png": "[encoded data removed]",
      "text/plain": [
       "<Figure size 432x288 with 1 Axes>"
      ]
     },
     "metadata": {},
     "output_type": "display_data"
    }
   ],
   "source": [
    "a = -math.acos( -1.0/m )\n",
    "\n",
    "ca = math.cos( a )\n",
    "sa = math.sin( a )\n",
    "rotation = torch.tensor( [  [ca, -sa], [sa, ca ] ] )\n",
    "\n",
    "XRot = X.mm( rotation ) \n",
    "\n",
    "plt.plot( [0],[0], 'y+' ) \n",
    "plt.scatter( X[:,0].tolist(), X[:,1].tolist(), color='red' ) \n",
    "plt.scatter( XRot[:,0].tolist(), XRot[:,1].tolist(), color='pink' ) \n",
    "YP = torch.zeros( XRot.size( 0 ) )\n",
    "plt.scatter( XRot[:,0].tolist(), YP, color='silver' ) \n",
    "plt.show()"
   ]
  },
  {
   "cell_type": "markdown",
   "metadata": {},
   "source": [
    "This is a generic way of doing this, in multiple dimensions: all at once.\n",
    "The principal components analysis (PCA) algorithm performs all the rotations in one step."
   ]
  },
  {
   "cell_type": "markdown",
   "metadata": {},
   "source": [
    "The PCA steps are\n",
    " \n",
    "- build the covariance matrix\n",
    "- decompose the covariance matrix into the singular vectors (SVD)\n",
    "- take the first n largest left singular vectors as the reduction matrix\n",
    "\n",
    "The SVD algorithm fators an input matrix into two rotations and a scaling. \n",
    "We'll use the left singular vectors as the matrix to reduce the dimension. This factoring finds the best rotations, such that the least information is lost.\n",
    "\n",
    "Note: the S matrix contains the eigenvalues for each rotation, sorted largest to smallest. The amount of information kept is the ratio of the S values kept to the total of S values. "
   ]
  },
  {
   "cell_type": "code",
   "execution_count": 6,
   "metadata": {},
   "outputs": [],
   "source": [
    "def pca( X, n=1 ) :\n",
    "    '''\n",
    "    returns a matrix to reduce the dimension of the input\n",
    "    to the given number of dimensions. A matrix to 'restore'\n",
    "    the reduced data back to its original form also returned\n",
    "    '''    \n",
    "    Covariance = X.t().mm( X ) / ( X.size(0)-1.0 )\n",
    "    \n",
    "    U, S, V = torch.svd( Covariance )\n",
    "    U1 = U[ :, 0:n]\n",
    "    V1 = V[0:n,:]\n",
    "\n",
    "    XR = X.mm( U1 )\n",
    "    var_preserved = S[0:n].sum() / S.sum()\n",
    "    \n",
    "    print( \"%4.2f%% of the variance preserved\" % ( 100*var_preserved ) )\n",
    "    \n",
    "    return XR, V1"
   ]
  },
  {
   "cell_type": "markdown",
   "metadata": {},
   "source": [
    "Plotting the data shows graphically what we did.\n",
    "XR is the reduced data, in this case 2-D becomes 1-D. Plot \n",
    "- the red (raw input) \n",
    "- silver (projected to x-axis) from the previous step\n",
    "- pca reduced data (blue . )\n",
    "\n",
    "The PCA produces identical results to the rotation from the previous step: the blue dots are coincident with the silver dots.\n",
    "\n",
    "Finally we plot the restored data, projecting the reduced dimension data to its original space. Note that the yellow and red are not 100% coincident, we did lose some information by reducing dimension. That's the price we pay for working in lower dimensions."
   ]
  },
  {
   "cell_type": "code",
   "execution_count": 7,
   "metadata": {},
   "outputs": [
    {
     "name": "stdout",
     "output_type": "stream",
     "text": [
      "99.93% of the variance preserved\n"
     ]
    },
    {
     "data": {
      "image/png": "[encoded data removed]",
      "text/plain": [
       "<Figure size 432x288 with 1 Axes>"
      ]
     },
     "metadata": {},
     "output_type": "display_data"
    }
   ],
   "source": [
    "XR, VR = pca( X, 1 )\n",
    "#XF, VF = pca( X, X.size(1) )\n",
    "\n",
    "plt.scatter( X[:,0].tolist(), X[:,1].tolist(), color='red' ) \n",
    "plt.scatter( XRot[:,0].tolist(), XRot[:,1].tolist(), color='pink' ) \n",
    "plt.scatter( XRot[:,0].tolist(), YP.tolist(), color='silver' ) \n",
    "\n",
    "plt.plot( XR.tolist(), YP.tolist(), 'b.' ) \n",
    "#plt.plot( XF[:,0].tolist(), XF[:,1].tolist(), 'g+' ) \n",
    "\n",
    "XRestored = XR.mm( VR )\n",
    "plt.plot( XRestored[:,0].tolist(), XRestored[:,1].tolist(), 'yo' ) \n",
    "\n",
    "plt.show()\n"
   ]
  },
  {
   "cell_type": "markdown",
   "metadata": {},
   "source": [
    "note: it's not necessary to run the (expensive) SVD on the entire X dataset. A representative sample is acceptable. "
   ]
  },
  {
   "cell_type": "markdown",
   "metadata": {},
   "source": [
    "As an exercise, doing the same thing on truly random data means we pay more of an information loss price for reducing dimensions.\n",
    "Note how far the yellow dots are from the original red dots."
   ]
  },
  {
   "cell_type": "code",
   "execution_count": 21,
   "metadata": {},
   "outputs": [
    {
     "name": "stdout",
     "output_type": "stream",
     "text": [
      "93.47% of the variance preserved\n"
     ]
    },
    {
     "data": {
      "image/png": "[encoded data removed]",
      "text/plain": [
       "<Figure size 432x288 with 1 Axes>"
      ]
     },
     "metadata": {},
     "output_type": "display_data"
    }
   ],
   "source": [
    "X = torch.rand( num_points, 2 ) - 0.5\n",
    "\n",
    "XR,VR = pca( X, 1 )\n",
    "\n",
    "plt.scatter( X[:,0].tolist(), X[:,1].tolist(), color='red' ) \n",
    "plt.scatter( XR.tolist(), YP, color='silver' ) \n",
    "\n",
    "XRestored = XR.mm( VR )\n",
    "plt.plot( XRestored[:,0].tolist(), XRestored[:,1].tolist(), 'y*' ) \n",
    "\n",
    "plt.show()\n"
   ]
  },
  {
   "cell_type": "code",
   "execution_count": null,
   "metadata": {},
   "outputs": [],
   "source": []
  }
 ],
 "metadata": {
  "kernelspec": {
   "display_name": "Python 3",
   "language": "python",
   "name": "python3"
  },
  "language_info": {
   "codemirror_mode": {
    "name": "ipython",
    "version": 3
   },
   "file_extension": ".py",
   "mimetype": "text/x-python",
   "name": "python",
   "nbconvert_exporter": "python",
   "pygments_lexer": "ipython3",
   "version": "3.6.5"
  }
 },
 "nbformat": 4,
 "nbformat_minor": 2
}
