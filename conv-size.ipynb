{
 "cells": [
  {
   "cell_type": "code",
   "execution_count": 1,
   "metadata": {
    "slideshow": {
     "slide_type": "slide"
    }
   },
   "outputs": [],
   "source": [
    "import torch\n",
    "import torch.nn as nn"
   ]
  },
  {
   "cell_type": "markdown",
   "metadata": {},
   "source": [
    "Calculate the sizes for torch conv2dTranspose layers to produce a desired output size from\n",
    "a provided input size.\n"
   ]
  },
  {
   "cell_type": "code",
   "execution_count": 2,
   "metadata": {
    "slideshow": {
     "slide_type": "slide"
    }
   },
   "outputs": [],
   "source": [
    "def calc_size( dim, layer ) :\n",
    "    return ( dim-1 ) * layer['stride'] - ( 2 * layer['padding'] ) + layer['kernel'] + layer['out_padding'] "
   ]
  },
  {
   "cell_type": "code",
   "execution_count": 3,
   "metadata": {
    "slideshow": {
     "slide_type": "slide"
    }
   },
   "outputs": [],
   "source": [
    "def find_size( insz, outsz, depth=0 ) :\n",
    "    if depth < 4 :\n",
    "        layer = {}\n",
    "        for layer['stride'] in range( 1,3 ) :\n",
    "            for layer['kernel'] in range( 2,11,2 ) :\n",
    "                for layer['padding'] in range( 0,(layer['kernel']+1)>>1 ) :\n",
    "                    for layer['out_padding'] in range( 0,layer['stride'] ) :\n",
    "                        sz = calc_size( insz, layer )\n",
    "                        if sz==outsz :\n",
    "                            yield [ (layer, sz) ]\n",
    "                        elif sz>insz :\n",
    "                            for r in find_size( sz, outsz, depth+1 ) :\n",
    "                                r.append( (layer, sz) )\n",
    "                                yield r"
   ]
  },
  {
   "cell_type": "code",
   "execution_count": 6,
   "metadata": {
    "slideshow": {
     "slide_type": "slide"
    }
   },
   "outputs": [
    {
     "name": "stdout",
     "output_type": "stream",
     "text": [
      "------------ 1 ------------\n",
      "layers=[\n",
      "nn.ConvTranspose2d( nc, nc, 2, stride=1, padding=0, output_padding=0, bias=False), # out size 7\n",
      "nn.ConvTranspose2d( nc, nc, 6, stride=2, padding=0, output_padding=0, bias=False), # out size 18\n",
      "nn.ConvTranspose2d( nc, nc, 10, stride=2, padding=0, output_padding=0, bias=False), # out size 44\n",
      "nn.ConvTranspose2d( nc, nc, 10, stride=2, padding=0, output_padding=0, bias=False), # out size 96\n",
      "]\n",
      "------------ 2 ------------\n",
      "layers=[\n",
      "nn.ConvTranspose2d( nc, nc, 2, stride=1, padding=0, output_padding=0, bias=False), # out size 7\n",
      "nn.ConvTranspose2d( nc, nc, 6, stride=2, padding=0, output_padding=0, bias=False), # out size 18\n",
      "nn.ConvTranspose2d( nc, nc, 10, stride=2, padding=0, output_padding=1, bias=False), # out size 45\n",
      "nn.ConvTranspose2d( nc, nc, 8, stride=2, padding=0, output_padding=0, bias=False), # out size 96\n",
      "]\n",
      "------------ 3 ------------\n",
      "layers=[\n",
      "nn.ConvTranspose2d( nc, nc, 2, stride=1, padding=0, output_padding=0, bias=False), # out size 7\n",
      "nn.ConvTranspose2d( nc, nc, 6, stride=2, padding=0, output_padding=0, bias=False), # out size 18\n",
      "nn.ConvTranspose2d( nc, nc, 10, stride=2, padding=0, output_padding=1, bias=False), # out size 45\n",
      "nn.ConvTranspose2d( nc, nc, 10, stride=2, padding=1, output_padding=0, bias=False), # out size 96\n",
      "]\n",
      "------------ 4 ------------\n",
      "layers=[\n",
      "nn.ConvTranspose2d( nc, nc, 2, stride=1, padding=0, output_padding=0, bias=False), # out size 7\n",
      "nn.ConvTranspose2d( nc, nc, 6, stride=2, padding=0, output_padding=1, bias=False), # out size 19\n",
      "nn.ConvTranspose2d( nc, nc, 8, stride=2, padding=0, output_padding=0, bias=False), # out size 44\n",
      "nn.ConvTranspose2d( nc, nc, 10, stride=2, padding=0, output_padding=0, bias=False), # out size 96\n",
      "]\n",
      "------------ 5 ------------\n",
      "layers=[\n",
      "nn.ConvTranspose2d( nc, nc, 2, stride=1, padding=0, output_padding=0, bias=False), # out size 7\n",
      "nn.ConvTranspose2d( nc, nc, 6, stride=2, padding=0, output_padding=1, bias=False), # out size 19\n",
      "nn.ConvTranspose2d( nc, nc, 8, stride=2, padding=0, output_padding=1, bias=False), # out size 45\n",
      "nn.ConvTranspose2d( nc, nc, 8, stride=2, padding=0, output_padding=0, bias=False), # out size 96\n",
      "]\n"
     ]
    }
   ],
   "source": [
    "input = 6\n",
    "output = 96\n",
    "\n",
    "ge = find_size( input, output )\n",
    "n = 0\n",
    "for r in ge :\n",
    "    r.reverse()\n",
    "    n = n + 1\n",
    "    if n > 5 :\n",
    "        break\n",
    "    print( \"------------\", n , \"------------\" )\n",
    "    print( \"layers=[\")\n",
    "    for l in r :        \n",
    "        print( \"nn.ConvTranspose2d( nc, nc, \" + str( l[0]['kernel'] )\n",
    "              + \", stride=\" + str( l[0]['stride'] )\n",
    "              + \", padding=\" + str( l[0]['padding'] )\n",
    "              + \", output_padding=\" + str( l[0]['out_padding'] ) \n",
    "              + \", bias=False), # out size \" + str( l[1] ) )\n",
    "    print( \"]\" )\n",
    "        \n",
    "if n==0 :\n",
    "    print( \"No solution\" )\n"
   ]
  },
  {
   "cell_type": "markdown",
   "metadata": {
    "slideshow": {
     "slide_type": "slide"
    }
   },
   "source": [
    "This is a sample test for the results.\n",
    "This skeleton can be used to verify the outputs. Overwrite the ```nn.Sequential( ... )```  \n",
    "content with one copied from above.\n"
   ]
  },
  {
   "cell_type": "code",
   "execution_count": 32,
   "metadata": {},
   "outputs": [],
   "source": [
    "class Squash3Dto1D( nn.Module ) :\n",
    "    def forward( self, X ) :\n",
    "        return X.view( X.size(0), X.size(1) * X.size(2) * X.size(3) )\n"
   ]
  },
  {
   "cell_type": "code",
   "execution_count": 34,
   "metadata": {},
   "outputs": [
    {
     "name": "stdout",
     "output_type": "stream",
     "text": [
      "torch.Size([17, 1, 6, 6]) torch.Size([17, 4])\n"
     ]
    }
   ],
   "source": [
    "nc = 1\n",
    "h = 6\n",
    "w = 6\n",
    "batch = 17\n",
    "X = torch.randn( batch, nc, h, w )\n",
    "    \n",
    "model = nn.Sequential(\n",
    "    nn.ConvTranspose2d( nc, nc, 2, stride=1, padding=0, output_padding=0, bias=False), # out size 7\n",
    "    nn.ConvTranspose2d( nc, nc, 6, stride=2, padding=0, output_padding=1, bias=False), # out size 19\n",
    "    nn.ConvTranspose2d( nc, nc, 8, stride=2, padding=0, output_padding=1, bias=False), # out size 45\n",
    "    nn.ConvTranspose2d( nc, nc, 8, stride=2, padding=0, output_padding=0, bias=False), # out size 96\n",
    "    Squash3Dto1D(),\n",
    "    nn.Linear( 96*96, 4 )\n",
    ")\n",
    "\n",
    "y=model.forward(X)\n",
    "print ( X.size(), y.size() )"
   ]
  }
 ],
 "metadata": {
  "kernelspec": {
   "display_name": "Python 3",
   "language": "python",
   "name": "python3"
  },
  "language_info": {
   "codemirror_mode": {
    "name": "ipython",
    "version": 3
   },
   "file_extension": ".py",
   "mimetype": "text/x-python",
   "name": "python",
   "nbconvert_exporter": "python",
   "pygments_lexer": "ipython3",
   "version": "3.6.5"
  }
 },
 "nbformat": 4,
 "nbformat_minor": 2
}
