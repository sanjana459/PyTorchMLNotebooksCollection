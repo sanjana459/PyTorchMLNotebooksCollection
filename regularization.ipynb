{
 "cells": [
  {
   "cell_type": "code",
   "execution_count": 1,
   "metadata": {},
   "outputs": [],
   "source": [
    "import math\n",
    "import torch\n",
    "import matplotlib.pyplot as plt"
   ]
  },
  {
   "cell_type": "markdown",
   "metadata": {},
   "source": [
    "## Regularization\n",
    "\n",
    "It is possible to build a model that represents the training dataperfectly. If a predictive or discriminatory function is desired, the desired model must represent the future, unknown data accurately.\n",
    "Regularization is the process that simplifies a model, to allow it to more accurately describe the entire model.\n",
    "Some techniques to regularize the model:\n",
    "\n",
    "- penalize large weights (&theta;s) in the model: weights contribute to the the loss function\n",
    "- discard a fraction of the learned model periodically"
   ]
  },
  {
   "cell_type": "markdown",
   "metadata": {},
   "source": [
    "Define some parameters to create a noisy stright line. The regressions will find a best fit line for this. Then define a means to get n random X & Y values, which lie along the noisy line."
   ]
  },
  {
   "cell_type": "code",
   "execution_count": 2,
   "metadata": {},
   "outputs": [],
   "source": [
    "m = 3\n",
    "c = 1\n",
    "\n",
    "noisiness = 10\n",
    "num_points = 5\n",
    "\n",
    "def get_next_batch( batch_size ) :\n",
    "    x = ( torch.rand( batch_size, 1 ) - 0.5 ) * 10\n",
    "    y = ( ( torch.rand( batch_size, 1 ) - 0.5 ) * noisiness ) + ( x * m + c )\n",
    "    return x, y"
   ]
  },
  {
   "cell_type": "markdown",
   "metadata": {},
   "source": [
    "Expand the x data to a 5th order polynomial, use linear regression to fit that data. Because num_points is 5 and a 5th order polynomial will perfectly describe the data."
   ]
  },
  {
   "cell_type": "code",
   "execution_count": 3,
   "metadata": {},
   "outputs": [],
   "source": [
    "x,y = get_next_batch( num_points)\n",
    "\n",
    "x2 = x * x\n",
    "x3 = x2 * x\n",
    "x4 = x3 * x\n",
    "x5 = x4 * x\n",
    "\n",
    "x2plusone = torch.cat( ( torch.ones( x.size(0),1 ), x, x2, x3, x4, x5 ) , 1 ) \n",
    "R2, _ = torch.gels( y, x2plusone )\n",
    "R2 = R2[0:x2plusone.size(1)]  "
   ]
  },
  {
   "cell_type": "markdown",
   "metadata": {},
   "source": [
    "Draw the curve, the training data (red) matches the curve perfectly. A different data set (green) drawn from the same distribution is a less good fit. Note how the simpler model ( a straight line ) would describe both data sets better.\n",
    "\n",
    "This is an example of overfitting, the model becomes a memory of the training data instead of a generic representation."
   ]
  },
  {
   "cell_type": "code",
   "execution_count": 4,
   "metadata": {},
   "outputs": [
    {
     "data": {
      "image/png": "[encoded data removed]",
      "text/plain": [
       "<Figure size 432x288 with 1 Axes>"
      ]
     },
     "metadata": {},
     "output_type": "display_data"
    }
   ],
   "source": [
    "x_test,y_test = get_next_batch( num_points)\n",
    "\n",
    "plt.scatter( x.tolist(), y.tolist(), color='red' )\n",
    "plt.plot( x_test.tolist(), y_test.tolist(), 'g*' )\n",
    "\n",
    "l = torch.linspace( x.min(), x.max(), steps=50 ).unsqueeze(1)\n",
    "l2 = l * l\n",
    "l3 = l2 * l\n",
    "l4 = l3 * l\n",
    "l5 = l4 * l\n",
    "\n",
    "l = torch.cat ( ( torch.ones( l.size(0),1 ), l, l2, l3, l4, l5), 1 ) \n",
    "yl = l.mm( R2 )\n",
    "\n",
    "plt.plot( l[:,1].tolist(), yl.tolist() )\n",
    "plt.show()\n"
   ]
  },
  {
   "cell_type": "markdown",
   "metadata": {},
   "source": [
    "There's not much opportunity in the direct linear regression to simplify the model, other than reducing the polynomial order.\n",
    "\n",
    "Considering the case of the gradient based models, regularization is a feature of the optimizeer. In pytorch the weight_decay parameter defines the cost of model complexity.\n",
    "\n",
    "Define two models, with and without the regularization feature."
   ]
  },
  {
   "cell_type": "code",
   "execution_count": 5,
   "metadata": {},
   "outputs": [],
   "source": [
    "linear1 = torch.nn.Linear( 5, 1, bias=True )\n",
    "criterion1 = torch.nn.MSELoss()\n",
    "optimizer1 = torch.optim.Adam( linear1.parameters(), \n",
    "                            lr=1e-6, weight_decay=0 )\n",
    "\n",
    "linear2 = torch.nn.Linear( 5, 1, bias=True )\n",
    "criterion2 = torch.nn.MSELoss()\n",
    "optimizer2 = torch.optim.Adam( linear2.parameters(), \n",
    "                            lr=1e-6, weight_decay=.30 )"
   ]
  },
  {
   "cell_type": "code",
   "execution_count": 6,
   "metadata": {},
   "outputs": [],
   "source": [
    "for epoch in range( 1000 ):    \n",
    "    x_batch, y_batch = get_next_batch( num_points * 50 )\n",
    "\n",
    "    xb2 = x_batch * x_batch\n",
    "    xb3 = xb2 * x_batch\n",
    "    xb4 = xb3 * x_batch\n",
    "    xb5 = xb4 * x_batch\n",
    "\n",
    "    X = torch.cat( ( x_batch, xb2, xb3, xb4, xb5 ) , 1 ) \n",
    "\n",
    "    optimizer1.zero_grad()\n",
    "    linear_outputs = linear1( X )\n",
    "    loss1 = criterion1(linear_outputs, y_batch)\n",
    "    loss1.backward()\n",
    "    optimizer1.step()\n",
    "    \n",
    "    optimizer2.zero_grad()\n",
    "    linear_outputs = linear2( X )\n",
    "    loss2 = criterion2(linear_outputs, y_batch)\n",
    "    loss2.backward()\n",
    "    optimizer2.step()"
   ]
  },
  {
   "cell_type": "code",
   "execution_count": 7,
   "metadata": {},
   "outputs": [
    {
     "data": {
      "image/png": "[encoded data removed]",
      "text/plain": [
       "<Figure size 432x288 with 1 Axes>"
      ]
     },
     "metadata": {},
     "output_type": "display_data"
    }
   ],
   "source": [
    "( x, y ) = get_next_batch( num_points*5 )\n",
    "\n",
    "plt.figure()\n",
    "\n",
    "plt.scatter( x.tolist(), y.tolist(), color='red' )\n",
    "\n",
    "l = torch.linspace( x.min(), x.max(), steps=50 ).unsqueeze(1)\n",
    "l2 = l * l\n",
    "l3 = l2 * l\n",
    "l4 = l3 * l\n",
    "l5 = l4 * l\n",
    "\n",
    "L = torch.cat ( ( l, l2, l3, l4, l5), 1 ) \n",
    "\n",
    "yl1 = linear1( L )\n",
    "yl2 = linear2( L )\n",
    "\n",
    "plt.plot( l.tolist(), yl1.tolist(), color='blue' )\n",
    "plt.plot( l.tolist(), yl2.tolist(), color='green' )\n",
    "\n",
    "plt.show()"
   ]
  },
  {
   "cell_type": "code",
   "execution_count": null,
   "metadata": {},
   "outputs": [],
   "source": []
  },
  {
   "cell_type": "code",
   "execution_count": null,
   "metadata": {},
   "outputs": [],
   "source": []
  }
 ],
 "metadata": {
  "kernelspec": {
   "display_name": "Python 3",
   "language": "python",
   "name": "python3"
  },
  "language_info": {
   "codemirror_mode": {
    "name": "ipython",
    "version": 3
   },
   "file_extension": ".py",
   "mimetype": "text/x-python",
   "name": "python",
   "nbconvert_exporter": "python",
   "pygments_lexer": "ipython3",
   "version": "3.6.5"
  }
 },
 "nbformat": 4,
 "nbformat_minor": 2
}
