{
 "cells": [
  {
   "cell_type": "code",
   "execution_count": 1,
   "metadata": {},
   "outputs": [],
   "source": [
    "\n",
    "import torch\n",
    "import torch.nn as nn\n",
    "import torch.optim as optim\n",
    "\n",
    "import matplotlib.pyplot as plt\n",
    "from PIL import Image\n",
    "import torchvision.transforms.functional as F\n"
   ]
  },
  {
   "cell_type": "code",
   "execution_count": 15,
   "metadata": {},
   "outputs": [],
   "source": [
    "batch_size  = 48\n",
    "channels = 1\n",
    "\n",
    "def get_batch( n=batch_size, h=16, w=16, c=channels ) :\n",
    "    return torch.rand( n, c, h, w )\n",
    "\n",
    "def get_actual( n=batch_size, h=64, w=64, c=channels ) :\n",
    "    rc = torch.zeros( n, c, h, w )\n",
    "    for b in range(0,n ) :\n",
    "        for x in range(w>>1, w-1 ) :\n",
    "            for y in range(0,h-1 ) :\n",
    "                #print([b,0,y,x])                \n",
    "                rc[b,0,y,x] = 1.0 #(y+1)/h\n",
    "    return rc\n",
    "\n",
    "# custom weights initialization called on netG and netD\n",
    "def weights_init(m):\n",
    "    classname = m.__class__.__name__\n",
    "    if classname.find('Conv') != -1:\n",
    "        m.weight.data.normal_(0.0, 0.02)\n",
    "    elif classname.find('BatchNorm') != -1:\n",
    "        m.weight.data.normal_(1.0, 0.02)\n",
    "        m.bias.data.fill_(0)\n"
   ]
  },
  {
   "cell_type": "code",
   "execution_count": 16,
   "metadata": {},
   "outputs": [],
   "source": [
    "class Generator(nn.Module):\n",
    "    def __init__(self):\n",
    "        super(Generator, self).__init__()\n",
    "\n",
    "        self.main = nn.Sequential(\n",
    "            nn.ConvTranspose2d( in_channels=1, out_channels=32, kernel_size=2, \n",
    "                          stride=2, padding=0, output_padding=0, bias=False ),\n",
    "            nn.BatchNorm2d( 32 ),\n",
    "            nn.ReLU(True),\n",
    "\n",
    "            nn.ConvTranspose2d( in_channels=32, out_channels=1, kernel_size=2, \n",
    "                          stride=2, padding=0, output_padding=0, bias=False ),\n",
    "            #nn.BatchNorm2d( 1 ),\n",
    "            nn.ReLU(True)\n",
    "        )\n",
    "        self.apply( weights_init )\n",
    "\n",
    "    def forward(self, x):\n",
    "        return self.main( x )"
   ]
  },
  {
   "cell_type": "code",
   "execution_count": 17,
   "metadata": {},
   "outputs": [],
   "source": [
    "net = Generator()\n",
    "#criterion = nn.MSELoss( reduction='sum' )\n",
    "criterion = nn.KLDivLoss() # reduction='sum' )\n",
    "optimizer = optim.Adam( net.parameters(), lr=1e-2 ) \n",
    "actual = get_actual() \n",
    "\n",
    "losses = []\n",
    "\n",
    "for b in range(0,30) :\n",
    "    net.zero_grad()\n",
    "    X = get_batch() \n",
    "    out = net.forward( X )\n",
    "    error = criterion( out, actual ) \n",
    "    error.backward()\n",
    "    losses.append( error )\n",
    "    optimizer.step()\n",
    "\n",
    "#print( error )"
   ]
  },
  {
   "cell_type": "code",
   "execution_count": 18,
   "metadata": {},
   "outputs": [
    {
     "data": {
      "text/plain": [
       "[<matplotlib.lines.Line2D at 0x7b326325ef98>]"
      ]
     },
     "execution_count": 18,
     "metadata": {},
     "output_type": "execute_result"
    },
    {
     "data": {
      "image/png": "[encoded data removed]",
      "text/plain": [
       "<Figure size 432x288 with 1 Axes>"
      ]
     },
     "metadata": {},
     "output_type": "display_data"
    }
   ],
   "source": [
    "fig = plt.figure()\n",
    "plt.plot( losses )"
   ]
  },
  {
   "cell_type": "code",
   "execution_count": 19,
   "metadata": {},
   "outputs": [
    {
     "data": {
      "image/png": "[encoded data removed]",
      "text/plain": [
       "<Figure size 432x288 with 1 Axes>"
      ]
     },
     "metadata": {},
     "output_type": "display_data"
    }
   ],
   "source": [
    "fig = plt.figure()\n",
    "#local = X3 * 255.0\n",
    "#local = local.type( torch.uint8 )\n",
    "\n",
    "\n",
    "#n = min( 12, local.size(0) )\n",
    "#for i in range(0, n ) :\n",
    "#    sp = fig.add_subplot( 3, int((n-1)/2)+1, i+1 )     \n",
    "#    image = F.to_pil_image( local[0] )\n",
    "#    plt.imshow( image )\n",
    "\n",
    "\n",
    "image = F.to_pil_image( out[0] ) #local[0] )\n",
    "plt.imshow( image )\n",
    "\n",
    "plt.show()\n"
   ]
  },
  {
   "cell_type": "markdown",
   "metadata": {},
   "source": [
    "size_out = ( (h-1)*stride2+kernel_size, (w-1)*stride2+kernel_size )\n",
    "print( size_out )"
   ]
  },
  {
   "cell_type": "code",
   "execution_count": null,
   "metadata": {},
   "outputs": [],
   "source": []
  }
 ],
 "metadata": {
  "kernelspec": {
   "display_name": "Python 3",
   "language": "python",
   "name": "python3"
  },
  "language_info": {
   "codemirror_mode": {
    "name": "ipython",
    "version": 3
   },
   "file_extension": ".py",
   "mimetype": "text/x-python",
   "name": "python",
   "nbconvert_exporter": "python",
   "pygments_lexer": "ipython3",
   "version": "3.6.5"
  }
 },
 "nbformat": 4,
 "nbformat_minor": 2
}
