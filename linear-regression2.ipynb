{
 "cells": [
  {
   "cell_type": "markdown",
   "metadata": {},
   "source": [
    "## Linear Regression using pytorch ( part 2 )\n",
    "\n",
    "This builds on Linear Regression part 1 \n",
    "\n",
    "Is *Linear* Regression only for straight lines? At first glance the coefficient equation \n",
    "&#375; = &theta;<sub>0</sub> + &theta;<sub>1</sub>X<sub>1</sub> + &theta; <sub>2</sub>X<sub>2</sub> + ... + &theta;<sub>n</sub>X<sub>n</sub> produces straight lines (in multiple dimensions).\n",
    "\n",
    "How can we extend the linear regression to produce curves?\n",
    "\n",
    "What we need to do is to amend (or append) the input value X. To produce a curve we need a higher order function, such as a quadratic ax<sup>2</sup> + bx + c. \n",
    "\n",
    "Taking our X inputs we can square the inputs and run the same linear regression . This time we solve for: &#375; = &theta;<sub>0</sub> + &theta;<sub>1</sub>X<sup>2</sup><sub>1</sub> + &theta; <sub>2</sub>X<sup>2</sup><sub>2</sub> + ... + &theta;<sub>n</sub>X<sup>2</sup><sub>n</sub>\n",
    "\n",
    "That's one example we can append the squared values to the original X.\n",
    "\n",
    "In fact we can apply any non-linear function (applying a linear one is kind of pointless {why?})\n",
    "log, cos, cube, etc."
   ]
  },
  {
   "cell_type": "code",
   "execution_count": 1,
   "metadata": {},
   "outputs": [],
   "source": [
    "import math\n",
    "import torch\n",
    "import matplotlib.pyplot as plt"
   ]
  },
  {
   "cell_type": "markdown",
   "metadata": {},
   "source": [
    "First let's create a noisy curve, we'll make a semicircle. X is a 1D vector."
   ]
  },
  {
   "cell_type": "code",
   "execution_count": 2,
   "metadata": {},
   "outputs": [],
   "source": [
    "noisiness = 20\n",
    "num_points = 50\n",
    "\n",
    "a = torch.linspace( 0, 1*math.pi, steps=num_points ).unsqueeze(1)\n",
    "\n",
    "x = 7 * torch.cos( a ) + ( ( torch.rand( num_points, 1 ) - 0.5 ) * noisiness/100.0 )\n",
    "y = torch.sin( a ) + ( ( torch.rand( num_points, 1 ) - 0.5 ) * noisiness/100.0 )"
   ]
  },
  {
   "cell_type": "markdown",
   "metadata": {},
   "source": [
    "Show the input data"
   ]
  },
  {
   "cell_type": "code",
   "execution_count": 3,
   "metadata": {},
   "outputs": [
    {
     "data": {
      "image/png": "[encoded data removed]",
      "text/plain": [
       "<Figure size 432x288 with 1 Axes>"
      ]
     },
     "metadata": {},
     "output_type": "display_data"
    }
   ],
   "source": [
    "plt.scatter( x.tolist(), y.tolist(), color='red' )\n",
    "plt.show()"
   ]
  },
  {
   "cell_type": "markdown",
   "metadata": {},
   "source": [
    "Now, we run the standard linear regression, to find a straight line fit"
   ]
  },
  {
   "cell_type": "code",
   "execution_count": 4,
   "metadata": {
    "scrolled": true
   },
   "outputs": [],
   "source": [
    "xplusone = torch.cat( ( torch.ones( x.size(0),1 ), x) , 1 ) \n",
    "R, _ = torch.gels( y, xplusone )\n",
    "R = R[0:xplusone.size(1)]  \n",
    "\n",
    "yh = xplusone.mm( R ) "
   ]
  },
  {
   "cell_type": "markdown",
   "metadata": {},
   "source": [
    "We plot the data\n",
    "\n",
    "Not surprisingly, a straight line does not accurately describe the data at all"
   ]
  },
  {
   "cell_type": "code",
   "execution_count": 5,
   "metadata": {},
   "outputs": [
    {
     "data": {
      "image/png": "[encoded data removed]",
      "text/plain": [
       "<Figure size 432x288 with 1 Axes>"
      ]
     },
     "metadata": {},
     "output_type": "display_data"
    }
   ],
   "source": [
    "yh = xplusone.mm( R ) \n",
    "plt.plot( x.tolist(), yh.tolist() )\n",
    "plt.scatter( x.tolist(), y.tolist(), color='red' )\n",
    "plt.show()"
   ]
  },
  {
   "cell_type": "markdown",
   "metadata": {},
   "source": [
    "Change the inputs to be squared\n",
    "Rerun the regression, the same old code"
   ]
  },
  {
   "cell_type": "code",
   "execution_count": 6,
   "metadata": {},
   "outputs": [],
   "source": [
    "x2 = x*x\n",
    "\n",
    "x2plusone = torch.cat( ( torch.ones( x2.size(0),1 ), x2) , 1 ) \n",
    "R2, _ = torch.gels( y, x2plusone )\n",
    "R2 = R2[0:x2plusone.size(1)]  "
   ]
  },
  {
   "cell_type": "markdown",
   "metadata": {},
   "source": [
    "Plot the curve\n",
    "\n",
    "We have to multiply the coefficients by the squared inputs, that's what we solved for.\n",
    "\n",
    "Much better fit"
   ]
  },
  {
   "cell_type": "code",
   "execution_count": 7,
   "metadata": {},
   "outputs": [
    {
     "data": {
      "image/png": "[encoded data removed]",
      "text/plain": [
       "<Figure size 432x288 with 1 Axes>"
      ]
     },
     "metadata": {},
     "output_type": "display_data"
    }
   ],
   "source": [
    "yh2 = x2plusone.mm( R2 ) \n",
    "plt.scatter( x.tolist(), y.tolist(), color='red' )\n",
    "plt.plot( x.tolist(), yh2.tolist() )\n",
    "plt.show()"
   ]
  },
  {
   "cell_type": "markdown",
   "metadata": {},
   "source": [
    "Things to try. \n",
    "\n",
    "Using the car example from part 1:\n",
    "\n",
    "* X<sub>1</sub> Top speed in mph.\n",
    "* X<sub>2</sub> Fuel consumption in mpg.\n",
    "* X<sub>3</sub> Cargo capacity in cuft.\n",
    "\n",
    "\n",
    "we could try:\n",
    "* multiply two coefficents together \n",
    "    * X<sub>4</sub> = X<sub>1</sub> &times; X<sub>2</sub>\n",
    "\n",
    "* square one coefficent\n",
    "    * X<sub>4</sub> = X<sub>3</sub> &times; X<sub>3</sub>\n",
    " \n",
    "* take the log of one input\n",
    "    * X<sub>4</sub> = ln( 1.0 + X<sub>2</sub> )\n",
    " \n",
    "Cautionary note:\n",
    "\n",
    "be careful that we don't force a curve to fit the data. Make sure we have training and test data ( more on that later ). We can fit our data perfectly with high order polynomials, but that may not model the problem space."
   ]
  },
  {
   "cell_type": "markdown",
   "metadata": {},
   "source": [
    "## Sample code to adjust the inputs\n",
    "\n",
    "An example of appending the squared value of each input to the inputs using pytorch"
   ]
  },
  {
   "cell_type": "code",
   "execution_count": 8,
   "metadata": {},
   "outputs": [
    {
     "name": "stdout",
     "output_type": "stream",
     "text": [
      "tensor([[0.8951, 0.8693, 0.8011, 0.7558],\n",
      "        [0.4493, 0.3702, 0.2018, 0.1370],\n",
      "        [0.7374, 0.4946, 0.5437, 0.2447],\n",
      "        [0.9809, 0.2737, 0.9622, 0.0749],\n",
      "        [0.4324, 0.2599, 0.1870, 0.0676]])\n"
     ]
    }
   ],
   "source": [
    "X = torch.rand( 5, 2 ) \n",
    "X = torch.cat( ( X, X*X ), 1 )\n",
    "print(X)"
   ]
  },
  {
   "cell_type": "code",
   "execution_count": null,
   "metadata": {},
   "outputs": [],
   "source": []
  }
 ],
 "metadata": {
  "kernelspec": {
   "display_name": "Python 3",
   "language": "python",
   "name": "python3"
  },
  "language_info": {
   "codemirror_mode": {
    "name": "ipython",
    "version": 3
   },
   "file_extension": ".py",
   "mimetype": "text/x-python",
   "name": "python",
   "nbconvert_exporter": "python",
   "pygments_lexer": "ipython3",
   "version": "3.6.5"
  }
 },
 "nbformat": 4,
 "nbformat_minor": 2
}
