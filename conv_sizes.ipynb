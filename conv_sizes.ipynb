{
 "cells": [
  {
   "cell_type": "code",
   "execution_count": 1,
   "metadata": {},
   "outputs": [],
   "source": [
    "\n",
    "import torch\n",
    "import torch.nn as nn\n",
    "import torch.optim as optim\n",
    "\n",
    "import matplotlib.pyplot as plt\n",
    "from PIL import Image\n",
    "import torchvision.transforms.functional as F\n"
   ]
  },
  {
   "cell_type": "markdown",
   "metadata": {},
   "source": [
    "nn.ConvTranspose2d( in_channels=1, out_channels=4, kernel_size=3, \n",
    "                    stride=1, padding=0, output_padding=0, bias=False, dilation=1 ),\n",
    "nn.ReLU(True),\n",
    "nn.ConvTranspose2d( in_channels=4, out_channels=4, kernel_size=3, \n",
    "                    stride=2, padding=0, output_padding=0, bias=False, dilation=1 ),\n",
    "nn.ReLU(True),\n",
    "nn.ConvTranspose2d( in_channels=4, out_channels=4, kernel_size=3, \n",
    "                    stride=2, padding=1, output_padding=0, bias=False ),\n",
    "nn.ReLU(True),\n",
    "nn.ConvTranspose2d( in_channels=4, out_channels=1, kernel_size=3, \n",
    "                    stride=2, padding=3, output_padding=1, bias=False, dilation=1 )"
   ]
  },
  {
   "cell_type": "code",
   "execution_count": 271,
   "metadata": {},
   "outputs": [],
   "source": [
    "l1 = nn.ConvTranspose2d( in_channels=1, out_channels=4, kernel_size=4, \n",
    "                    stride=2, padding=1, output_padding=0, bias=False )\n",
    "nn.ReLU(True),\n",
    "l2 = nn.ConvTranspose2d( in_channels=4, out_channels=4, kernel_size=4, \n",
    "                    stride=2, padding=1, output_padding=0, bias=False )\n",
    "nn.ReLU(True),\n",
    "l3 = nn.ConvTranspose2d( in_channels=4, out_channels=4, kernel_size=3, \n",
    "                    stride=1, padding=1, output_padding=0, bias=False )"
   ]
  },
  {
   "cell_type": "code",
   "execution_count": 272,
   "metadata": {},
   "outputs": [],
   "source": [
    "X = torch.rand( 3, 1, 16, 16 )"
   ]
  },
  {
   "cell_type": "code",
   "execution_count": 273,
   "metadata": {},
   "outputs": [
    {
     "name": "stdout",
     "output_type": "stream",
     "text": [
      "torch.Size([3, 1, 16, 16])\n",
      "torch.Size([3, 4, 32, 32])\n",
      "torch.Size([3, 4, 64, 64])\n",
      "torch.Size([3, 4, 64, 64])\n"
     ]
    }
   ],
   "source": [
    "print( X.size() )\n",
    "\n",
    "X1 = l1.forward( X ) \n",
    "print( X1.size() )\n",
    "\n",
    "X2 = l2.forward( X1 )\n",
    "print( X2.size() )\n",
    "\n",
    "X3 = l3.forward( X2 )\n",
    "print( X3.size() )\n"
   ]
  },
  {
   "cell_type": "code",
   "execution_count": null,
   "metadata": {},
   "outputs": [],
   "source": []
  },
  {
   "cell_type": "code",
   "execution_count": null,
   "metadata": {},
   "outputs": [],
   "source": []
  }
 ],
 "metadata": {
  "kernelspec": {
   "display_name": "Python 3",
   "language": "python",
   "name": "python3"
  },
  "language_info": {
   "codemirror_mode": {
    "name": "ipython",
    "version": 3
   },
   "file_extension": ".py",
   "mimetype": "text/x-python",
   "name": "python",
   "nbconvert_exporter": "python",
   "pygments_lexer": "ipython3",
   "version": "3.6.5"
  }
 },
 "nbformat": 4,
 "nbformat_minor": 2
}
